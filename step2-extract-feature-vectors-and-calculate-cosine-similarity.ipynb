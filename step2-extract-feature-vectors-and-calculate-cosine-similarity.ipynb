{
 "cells": [
  {
   "cell_type": "markdown",
   "id": "c61b9d80-a7f2-4d7a-ae8f-12fb522ab3f7",
   "metadata": {},
   "source": [
    "## Cosine Similarity between text documents"
   ]
  },
  {
   "cell_type": "markdown",
   "id": "b05d0f70-7ea6-454b-b1cb-bcb2c2b4090b",
   "metadata": {},
   "source": [
    "### For 600 million cross-joined edges, we only need sqrt(600 million) = 24,495 documents as the data set size. However, we will also calculate cosine similarity on 10,000 million cross-joined edges to show performance"
   ]
  },
  {
   "cell_type": "markdown",
   "id": "63ff149e-6eab-4685-85cb-3cc95feda159",
   "metadata": {
    "tags": []
   },
   "source": [
    "#### Import libraries"
   ]
  },
  {
   "cell_type": "code",
   "execution_count": 1,
   "id": "a7b3e827-2fbd-4ffb-840a-cc15cb7a2316",
   "metadata": {
    "tags": []
   },
   "outputs": [],
   "source": [
    "import pandas as pd\n",
    "import numpy as np\n",
    "import time\n",
    "import json\n",
    "from cachetools import cached\n",
    "from time import perf_counter\n",
    "from typing import Iterable, Tuple\n",
    "# Snowpark Imports\n",
    "from snowflake.snowpark.session import Session\n",
    "import snowflake.snowpark.functions as F\n",
    "import snowflake.snowpark.types as T\n",
    "from snowflake.snowpark.functions import udf, udtf"
   ]
  },
  {
   "cell_type": "markdown",
   "id": "58989ed8-5cb2-4d4d-b44b-1634f0c23829",
   "metadata": {
    "tags": []
   },
   "source": [
    "#### Create snowpark session"
   ]
  },
  {
   "cell_type": "code",
   "execution_count": 2,
   "id": "02659c8d-779f-44bf-9e5c-de9324a886c2",
   "metadata": {},
   "outputs": [],
   "source": [
    "# Reading Snowflake Connection Details\n",
    "snowflake_connection_cfg = json.loads(open('snowflake-creds.json').read())\n",
    "session = Session.builder.configs(snowflake_connection_cfg).create()"
   ]
  },
  {
   "cell_type": "markdown",
   "id": "d626683b-6af7-44bb-b453-5c063c33fb1a",
   "metadata": {},
   "source": [
    "#### Create snowflake stage to persist UDFs and UDTFs"
   ]
  },
  {
   "cell_type": "code",
   "execution_count": 3,
   "id": "db922e91-35ba-4528-b78e-adc979f9981b",
   "metadata": {
    "tags": []
   },
   "outputs": [
    {
     "data": {
      "text/plain": [
       "[Row(status='FUNCTIONS already exists, statement succeeded.')]"
      ]
     },
     "execution_count": 3,
     "metadata": {},
     "output_type": "execute_result"
    }
   ],
   "source": [
    "session.sql(\"create stage if not exists FUNCTIONS\").collect()"
   ]
  },
  {
   "cell_type": "markdown",
   "id": "050001bd-20d2-4288-9ef7-384499fb0f0b",
   "metadata": {},
   "source": [
    "#### View the data"
   ]
  },
  {
   "cell_type": "code",
   "execution_count": 4,
   "id": "bfa0adb5-846d-4c0e-b52a-ed3aa924605b",
   "metadata": {
    "tags": []
   },
   "outputs": [
    {
     "name": "stdout",
     "output_type": "stream",
     "text": [
      "------------------------------------------------------------------\n",
      "|\"TEXT_ID\"  |\"TEXT\"                                              |\n",
      "------------------------------------------------------------------\n",
      "|0          |Snowflake Inc. is a cloud computing–based data ...  |\n",
      "|1          |Netflix, Inc. is an American media company base...  |\n",
      "|2          |Avatar is an American media franchise created b...  |\n",
      "|3          |In data analysis, cosine similarity is a measur...  |\n",
      "|4          |Avatar is an American media franchise created b...  |\n",
      "|5          |In data analysis, cosine similarity is a measur...  |\n",
      "|6          |Netflix, Inc. is an American media company base...  |\n",
      "|7          |Avatar is an American media franchise created b...  |\n",
      "|8          |Avatar is an American media franchise created b...  |\n",
      "|9          |Avatar is an American media franchise created b...  |\n",
      "------------------------------------------------------------------\n",
      "\n"
     ]
    }
   ],
   "source": [
    "original_texts_df = session.table('SAMPLE_TEXTS')\n",
    "original_texts_df.show()"
   ]
  },
  {
   "cell_type": "code",
   "execution_count": 5,
   "id": "748403d3-6390-4908-9a32-ec907c95a423",
   "metadata": {
    "tags": []
   },
   "outputs": [
    {
     "data": {
      "text/plain": [
       "100000"
      ]
     },
     "execution_count": 5,
     "metadata": {},
     "output_type": "execute_result"
    }
   ],
   "source": [
    "original_texts_df.count()"
   ]
  },
  {
   "cell_type": "markdown",
   "id": "93e7c657-c407-492e-b11c-1fea6f455e2d",
   "metadata": {},
   "source": [
    "#### Start with small warehouse to register UDFs and UDTFs"
   ]
  },
  {
   "cell_type": "code",
   "execution_count": 6,
   "id": "5b797197-16ef-489a-a375-908d1d130f2e",
   "metadata": {
    "tags": []
   },
   "outputs": [
    {
     "data": {
      "text/plain": [
       "[Row(status='Statement executed successfully.')]"
      ]
     },
     "execution_count": 6,
     "metadata": {},
     "output_type": "execute_result"
    }
   ],
   "source": [
    "session.sql(f\"ALTER WAREHOUSE {session.get_current_warehouse()} set WAREHOUSE_SIZE=SMALL\").collect()"
   ]
  },
  {
   "cell_type": "markdown",
   "id": "87e8369d-9c15-4dad-a066-c32bf174c01b",
   "metadata": {},
   "source": [
    "#### Register UDF for extracting feature vectors"
   ]
  },
  {
   "cell_type": "code",
   "execution_count": 7,
   "id": "50ab40aa-7eab-4e33-8bf8-dffd056b28cc",
   "metadata": {
    "tags": []
   },
   "outputs": [
    {
     "name": "stderr",
     "output_type": "stream",
     "text": [
      "package spacy-model-en_core_web_sm is not installed in the local environmentYour UDF might not work when the package is installed on the server but not on your local environment.\n"
     ]
    }
   ],
   "source": [
    "@cached(cache={})\n",
    "def f_load_spacy_model()-> object:\n",
    "    import spacy\n",
    "    import en_core_web_sm\n",
    "    nlp = en_core_web_sm.load()\n",
    "    # As we're only interested in vectors we can disable other parts of the pipeline\n",
    "    nlp.disable_pipes('parser','attribute_ruler','lemmatizer','ner')\n",
    "    return nlp\n",
    "\n",
    "# User-Defined-Function that extracts feature vector from text\n",
    "@udf(name='f_spacy_vectorizer', \n",
    "     session=session,\n",
    "     input_types=[T.StringType()], \n",
    "     return_type=T.BinaryType(), \n",
    "     is_permanent=True, \n",
    "     replace=True, \n",
    "     stage_location='@FUNCTIONS', \n",
    "     max_batch_size=1000, \n",
    "     packages=['spacy==3.3.0','spacy-model-en_core_web_sm','cachetools'])\n",
    "def f_spacy_vectorizer(text_series: pd.Series) -> pd.Series:\n",
    "    nlp = f_load_spacy_model()\n",
    "    docs = []\n",
    "    # Spacy's pipe interface is optimized for batched input\n",
    "    for doc in nlp.pipe(text_series, batch_size=1000, n_process=1):\n",
    "        docs.append(doc.vector.tobytes()) # vector is converted to bytes\n",
    "    return docs"
   ]
  },
  {
   "cell_type": "markdown",
   "id": "314d1697-b603-4555-9428-dd4131580724",
   "metadata": {},
   "source": [
    "#### Register UDTF for cosine similarity calculation"
   ]
  },
  {
   "cell_type": "code",
   "execution_count": 8,
   "id": "356b7acf-cfb9-41e6-99df-ff697f5fcfc7",
   "metadata": {},
   "outputs": [
    {
     "name": "stderr",
     "output_type": "stream",
     "text": [
      "package scikit-learn is not installed in the local environmentYour UDF might not work when the package is installed on the server but not on your local environment.\n"
     ]
    }
   ],
   "source": [
    "# UDTF to calculate cosine-similarity on batched rows (bytearrays)\n",
    "@udtf(name=\"f_cosine_similarity\",\n",
    "     is_permanent=True, \n",
    "     stage_location='@FUNCTIONS', \n",
    "     output_schema=['TEXT_ID_LEFT','TEXT_ID_RIGHT','COSINE_SIMILARITY'],\n",
    "     replace=True, \n",
    "     packages=['scikit-learn','numpy'], \n",
    "     session=session)\n",
    "class f_cosine_similarity:\n",
    "    def process(self, id_vec1: list, id_vec2: list) -> Iterable[Tuple[str,str,float]]:\n",
    "        from sklearn.metrics.pairwise import cosine_similarity\n",
    "        import numpy as np\n",
    "        import itertools\n",
    "        # Collect paths\n",
    "        input1_id = [val[0] for val in id_vec1]\n",
    "        input2_id = [val[0] for val in id_vec2]\n",
    "        \n",
    "        # Collect vectors (need to convert strings to bytes)\n",
    "        input1_calc = np.array([np.frombuffer(bytes(val[1], 'utf-8'), dtype=np.float32) for val in id_vec1])\n",
    "        input2_calc = np.array([np.frombuffer(bytes(val[1], 'utf-8'), dtype=np.float32) for val in id_vec2])\n",
    "        \n",
    "        # Calculate Similarity\n",
    "        # As we have to calculate cos-sim between m*n input-samples, we need pairwise calculation \n",
    "        similarities = cosine_similarity(input1_calc, input2_calc).flatten()\n",
    "        \n",
    "        # Transform results into list of tuples\n",
    "        return [pair + (sim_value,) for pair,sim_value in zip(list(itertools.product(input1_id,input2_id)),similarities)]"
   ]
  },
  {
   "cell_type": "markdown",
   "id": "d4460239-36fc-419c-b46e-9fc4a76bc7f8",
   "metadata": {},
   "source": [
    "### For 600 million cross-joined edges, we only need sqrt(600 million) = 24,495 documents as the data set size and a XL warehouse"
   ]
  },
  {
   "cell_type": "code",
   "execution_count": 9,
   "id": "7d83b66b-b4a8-4453-ab6e-d694499350d3",
   "metadata": {},
   "outputs": [
    {
     "data": {
      "text/plain": [
       "[Row(status='Statement executed successfully.')]"
      ]
     },
     "execution_count": 9,
     "metadata": {},
     "output_type": "execute_result"
    }
   ],
   "source": [
    "texts_df = original_texts_df.limit(24495)\n",
    "session.sql(f\"ALTER WAREHOUSE {session.get_current_warehouse()} set WAREHOUSE_SIZE=XLARGE\").collect()"
   ]
  },
  {
   "cell_type": "markdown",
   "id": "65e99544-3998-42ea-9817-8feb32a7ceaf",
   "metadata": {
    "tags": []
   },
   "source": [
    "#### Explicitly turn off result set caching (we don’t want cache to skew performance results - in production you’d like have caching enabled and potentially that gives you a boost in performance)"
   ]
  },
  {
   "cell_type": "code",
   "execution_count": 10,
   "id": "d3a203f9-6648-4f45-ab0f-c2c084be3124",
   "metadata": {},
   "outputs": [
    {
     "data": {
      "text/plain": [
       "[Row(status='Statement executed successfully.')]"
      ]
     },
     "execution_count": 10,
     "metadata": {},
     "output_type": "execute_result"
    }
   ],
   "source": [
    "session.sql(\"ALTER SESSION SET USE_CACHED_RESULT=FALSE\").collect()"
   ]
  },
  {
   "cell_type": "markdown",
   "id": "8dc53184-8fcb-41f3-ad5b-91eeaa0aa61c",
   "metadata": {
    "tags": []
   },
   "source": [
    "#### Extract feature vectors"
   ]
  },
  {
   "cell_type": "code",
   "execution_count": 11,
   "id": "a32aaafc-4921-47b8-92b3-cd834e4bc02a",
   "metadata": {
    "tags": []
   },
   "outputs": [
    {
     "name": "stdout",
     "output_type": "stream",
     "text": [
      "Runtime (s): 35\n",
      "Texts/second: 703\n"
     ]
    }
   ],
   "source": [
    "start = perf_counter()\n",
    "feature_vectors_df = texts_df.with_column('FEATURE_VECTOR', f_spacy_vectorizer('TEXT')).order_by(F.random())\n",
    "feature_vectors_df.write.save_as_table('SAMPLE_TEXTS_VECTORS', mode='overwrite')\n",
    "feature_vectors_df = session.table('SAMPLE_TEXTS_VECTORS')\n",
    "runtime = perf_counter()-start\n",
    "print('Runtime (s):', round(runtime))\n",
    "print('Texts/second:', round(texts_df.count()/runtime))"
   ]
  },
  {
   "cell_type": "code",
   "execution_count": 12,
   "id": "197645c9-3983-41cb-8784-c415fa4fe322",
   "metadata": {
    "tags": []
   },
   "outputs": [
    {
     "name": "stdout",
     "output_type": "stream",
     "text": [
      "-----------------------------------------------------------------------------------------------------------------------\n",
      "|\"TEXT_ID\"  |\"TEXT\"                                              |\"FEATURE_VECTOR\"                                    |\n",
      "-----------------------------------------------------------------------------------------------------------------------\n",
      "|85950      |Netflix, Inc. is an American media company base...  |bytearray(b'=E\\xb5>\">Q;\\xef\\x16\\x8e\\xba\\xa3&4\\x...  |\n",
      "|56221      |Avatar is an American media franchise created b...  |bytearray(b'\\x18\\xc5_>m\\x98=\\xbe\\x8f\\x04`>*\\x08...  |\n",
      "|85762      |In data analysis, cosine similarity is a measur...  |bytearray(b\"\\\\\\xa4\\xb9\\xbd2\\xbf&\\xbe\\xb1\\xb2e>e...  |\n",
      "|23309      |In data analysis, cosine similarity is a measur...  |bytearray(b\"\\\\\\xa4\\xb9\\xbd2\\xbf&\\xbe\\xb1\\xb2e>e...  |\n",
      "|48736      |Avatar is an American media franchise created b...  |bytearray(b'\\x18\\xc5_>m\\x98=\\xbe\\x8f\\x04`>*\\x08...  |\n",
      "|73005      |Snowflake Inc. is a cloud computing–based data ...  |bytearray(b'\\x05N\\x1e? ;\\xc4<\\x1el\\x11>oH\\x83\\x...  |\n",
      "|55216      |Snowflake Inc. is a cloud computing–based data ...  |bytearray(b'\\x05N\\x1e? ;\\xc4<\\x1el\\x11>oH\\x83\\x...  |\n",
      "|14643      |Snowflake Inc. is a cloud computing–based data ...  |bytearray(b'\\x05N\\x1e? ;\\xc4<\\x1el\\x11>oH\\x83\\x...  |\n",
      "|48651      |Avatar is an American media franchise created b...  |bytearray(b'\\x18\\xc5_>m\\x98=\\xbe\\x8f\\x04`>*\\x08...  |\n",
      "|98819      |Netflix, Inc. is an American media company base...  |bytearray(b'=E\\xb5>\">Q;\\xef\\x16\\x8e\\xba\\xa3&4\\x...  |\n",
      "-----------------------------------------------------------------------------------------------------------------------\n",
      "\n"
     ]
    }
   ],
   "source": [
    "feature_vectors_df.show()"
   ]
  },
  {
   "cell_type": "markdown",
   "id": "de597c9a-acd5-4959-af1c-c7344153405c",
   "metadata": {},
   "source": [
    "#### Calculate cosine similarity"
   ]
  },
  {
   "cell_type": "code",
   "execution_count": 13,
   "id": "9a87673b-f7c8-4704-905d-e08d4efa0c4b",
   "metadata": {
    "tags": []
   },
   "outputs": [
    {
     "name": "stdout",
     "output_type": "stream",
     "text": [
      "Runtime (s): 19\n",
      "Total Cross joined pairs: 600005025\n",
      "Pairs/second: 32416530\n"
     ]
    }
   ],
   "source": [
    "start = perf_counter()\n",
    "# Aggregate feature vector table to batches\n",
    "texts_per_batch = 100\n",
    "num_batches = round(feature_vectors_df.count() / texts_per_batch)\n",
    "batched_input = feature_vectors_df.with_column('BATCH_ID', F.uniform(1,num_batches,F.random()))\n",
    "batched_input = batched_input.group_by(['BATCH_ID'])\n",
    "batched_input = batched_input.agg(F.array_agg(F.array_construct('TEXT_ID','FEATURE_VECTOR')).as_('TEXT_IDS'))\n",
    "# After aggregating the table we can easily cross-join with itself to calculate similarity between all texts\n",
    "batched_input_results = batched_input.cross_join(batched_input, lsuffix='_LEFT', rsuffix='_RIGHT')\n",
    "# evenly distribute data across nodes\n",
    "batched_input_results = batched_input_results.order_by(F.random())\n",
    "batched_input_results = batched_input_results.join_table_function(f_cosine_similarity('TEXT_IDS_LEFT', 'TEXT_IDS_RIGHT'))\n",
    "batched_input_results = batched_input_results.drop('TEXT_IDS_RIGHT','TEXT_IDS_LEFT','BATCH_ID_RIGHT','BATCH_ID_LEFT')\n",
    "batched_input_results.write.save_as_table('SAMPLE_TEXTS_VECTORS_SIM', mode='overwrite')\n",
    "batched_input_results = session.table('SAMPLE_TEXTS_VECTORS_SIM')\n",
    "runtime = perf_counter()-start\n",
    "print('Runtime (s):', round(runtime))\n",
    "print('Total Cross joined pairs:', round(batched_input_results.count()))\n",
    "print('Pairs/second:', round(batched_input_results.count()/runtime))"
   ]
  },
  {
   "cell_type": "markdown",
   "id": "3e4d0add-5f6c-47af-a974-bac452c8f392",
   "metadata": {},
   "source": [
    "### For 10,000 million cross-joined edges, we will take 100,000 documents as the data set size and a 3XL warehouse"
   ]
  },
  {
   "cell_type": "code",
   "execution_count": 14,
   "id": "7aba0923-6de4-4130-a46f-3b05270dfc54",
   "metadata": {},
   "outputs": [
    {
     "data": {
      "text/plain": [
       "[Row(status='Statement executed successfully.')]"
      ]
     },
     "execution_count": 14,
     "metadata": {},
     "output_type": "execute_result"
    }
   ],
   "source": [
    "texts_df = original_texts_df\n",
    "session.sql(f\"ALTER WAREHOUSE {session.get_current_warehouse()} set WAREHOUSE_SIZE=XXXLARGE\").collect()"
   ]
  },
  {
   "cell_type": "markdown",
   "id": "eb13d157-b173-406b-a165-ea0e3ecb826f",
   "metadata": {},
   "source": [
    "#### Explicitly turn off result set caching (we don’t want cache to skew performance results - in production you’d like have caching enabled and potentially that gives you a boost in performance)"
   ]
  },
  {
   "cell_type": "code",
   "execution_count": 15,
   "id": "e7e143e6-b081-4410-b2db-54855d347b5c",
   "metadata": {},
   "outputs": [
    {
     "data": {
      "text/plain": [
       "[Row(status='Statement executed successfully.')]"
      ]
     },
     "execution_count": 15,
     "metadata": {},
     "output_type": "execute_result"
    }
   ],
   "source": [
    "session.sql(\"ALTER SESSION SET USE_CACHED_RESULT=FALSE\").collect()"
   ]
  },
  {
   "cell_type": "markdown",
   "id": "6c2b6171-69f2-42e2-b1e6-8a8fd7a9369a",
   "metadata": {},
   "source": [
    "#### Extract feature vectors"
   ]
  },
  {
   "cell_type": "code",
   "execution_count": 16,
   "id": "3b557632-6e0e-40d3-81ad-22f664641b1b",
   "metadata": {},
   "outputs": [
    {
     "name": "stdout",
     "output_type": "stream",
     "text": [
      "Runtime (s): 11\n",
      "Texts/second: 9463\n"
     ]
    }
   ],
   "source": [
    "start = perf_counter()\n",
    "feature_vectors_df = texts_df.with_column('FEATURE_VECTOR', f_spacy_vectorizer('TEXT')).order_by(F.random())\n",
    "feature_vectors_df.write.save_as_table('SAMPLE_TEXTS_VECTORS', mode='overwrite')\n",
    "feature_vectors_df = session.table('SAMPLE_TEXTS_VECTORS')\n",
    "runtime = perf_counter()-start\n",
    "print('Runtime (s):', round(runtime))\n",
    "print('Texts/second:', round(texts_df.count()/runtime))"
   ]
  },
  {
   "cell_type": "code",
   "execution_count": 17,
   "id": "75d053e1-8c8a-4bc1-8201-3269ce71c91b",
   "metadata": {},
   "outputs": [
    {
     "name": "stdout",
     "output_type": "stream",
     "text": [
      "-----------------------------------------------------------------------------------------------------------------------\n",
      "|\"TEXT_ID\"  |\"TEXT\"                                              |\"FEATURE_VECTOR\"                                    |\n",
      "-----------------------------------------------------------------------------------------------------------------------\n",
      "|61000      |Netflix, Inc. is an American media company base...  |bytearray(b'=E\\xb5>\">Q;\\xef\\x16\\x8e\\xba\\xa3&4\\x...  |\n",
      "|54781      |Snowflake Inc. is a cloud computing–based data ...  |bytearray(b'\\x05N\\x1e? ;\\xc4<\\x1el\\x11>oH\\x83\\x...  |\n",
      "|37308      |Snowflake Inc. is a cloud computing–based data ...  |bytearray(b'\\x05N\\x1e? ;\\xc4<\\x1el\\x11>oH\\x83\\x...  |\n",
      "|80608      |In data analysis, cosine similarity is a measur...  |bytearray(b\"\\\\\\xa4\\xb9\\xbd2\\xbf&\\xbe\\xb1\\xb2e>e...  |\n",
      "|63133      |Netflix, Inc. is an American media company base...  |bytearray(b'=E\\xb5>\">Q;\\xef\\x16\\x8e\\xba\\xa3&4\\x...  |\n",
      "|45705      |Snowflake Inc. is a cloud computing–based data ...  |bytearray(b'\\x05N\\x1e? ;\\xc4<\\x1el\\x11>oH\\x83\\x...  |\n",
      "|49212      |Snowflake Inc. is a cloud computing–based data ...  |bytearray(b'\\x05N\\x1e? ;\\xc4<\\x1el\\x11>oH\\x83\\x...  |\n",
      "|65645      |Avatar is an American media franchise created b...  |bytearray(b'\\x18\\xc5_>m\\x98=\\xbe\\x8f\\x04`>*\\x08...  |\n",
      "|12726      |In data analysis, cosine similarity is a measur...  |bytearray(b\"\\\\\\xa4\\xb9\\xbd2\\xbf&\\xbe\\xb1\\xb2e>e...  |\n",
      "|80726      |Snowflake Inc. is a cloud computing–based data ...  |bytearray(b'\\x05N\\x1e? ;\\xc4<\\x1el\\x11>oH\\x83\\x...  |\n",
      "-----------------------------------------------------------------------------------------------------------------------\n",
      "\n"
     ]
    }
   ],
   "source": [
    "feature_vectors_df.show()"
   ]
  },
  {
   "cell_type": "markdown",
   "id": "6b0b704c-a34b-494b-8157-14d9a775d080",
   "metadata": {},
   "source": [
    "#### Calculate cosine similarity"
   ]
  },
  {
   "cell_type": "code",
   "execution_count": 18,
   "id": "3aa94b89-b7cd-4edc-a0d7-a02546cf1654",
   "metadata": {
    "tags": []
   },
   "outputs": [
    {
     "name": "stdout",
     "output_type": "stream",
     "text": [
      "Runtime (s): 58\n",
      "Total Cross joined pairs: 10000000000\n",
      "Pairs/second: 171452104\n"
     ]
    }
   ],
   "source": [
    "start = perf_counter()\n",
    "# Aggregate feature vector table to batches\n",
    "texts_per_batch = 100\n",
    "num_batches = round(feature_vectors_df.count() / texts_per_batch)\n",
    "batched_input = feature_vectors_df.with_column('BATCH_ID', F.uniform(1,num_batches,F.random()))\n",
    "batched_input = batched_input.group_by(['BATCH_ID'])\n",
    "batched_input = batched_input.agg(F.array_agg(F.array_construct('TEXT_ID','FEATURE_VECTOR')).as_('TEXT_IDS'))\n",
    "# After aggregating the table we can easily cross-join with itself to calculate similarity between all texts\n",
    "batched_input_results = batched_input.cross_join(batched_input, lsuffix='_LEFT', rsuffix='_RIGHT')\n",
    "# evenly distribute data across nodes\n",
    "batched_input_results = batched_input_results.order_by(F.random())\n",
    "batched_input_results = batched_input_results.join_table_function(f_cosine_similarity('TEXT_IDS_LEFT', 'TEXT_IDS_RIGHT'))\n",
    "batched_input_results = batched_input_results.drop('TEXT_IDS_RIGHT','TEXT_IDS_LEFT','BATCH_ID_RIGHT','BATCH_ID_LEFT')\n",
    "batched_input_results.write.save_as_table('SAMPLE_TEXTS_VECTORS_SIM', mode='overwrite')\n",
    "batched_input_results = session.table('SAMPLE_TEXTS_VECTORS_SIM')\n",
    "runtime = perf_counter()-start\n",
    "print('Runtime (s):', round(runtime))\n",
    "print('Total Cross joined pairs:', round(batched_input_results.count()))\n",
    "print('Pairs/second:', round(batched_input_results.count()/runtime))"
   ]
  },
  {
   "cell_type": "code",
   "execution_count": 19,
   "id": "155ef5dc",
   "metadata": {},
   "outputs": [
    {
     "name": "stdout",
     "output_type": "stream",
     "text": [
      "----------------------------------------------------------\n",
      "|\"TEXT_ID_LEFT\"  |\"TEXT_ID_RIGHT\"  |\"COSINE_SIMILARITY\"  |\n",
      "----------------------------------------------------------\n",
      "|20790           |8630             |0.47543761134147644  |\n",
      "|20790           |41040            |0.47543761134147644  |\n",
      "|20790           |51749            |0.47543761134147644  |\n",
      "|20790           |26815            |0.4077727496623993   |\n",
      "|20790           |92570            |0.47543761134147644  |\n",
      "|20790           |54593            |0.47543761134147644  |\n",
      "|20790           |81867            |0.9999999403953552   |\n",
      "|20790           |86549            |0.4077727496623993   |\n",
      "|20790           |85616            |0.4077727496623993   |\n",
      "|20790           |65682            |0.4080118238925934   |\n",
      "----------------------------------------------------------\n",
      "\n"
     ]
    }
   ],
   "source": [
    "batched_input_results.show()"
   ]
  },
  {
   "cell_type": "markdown",
   "id": "9665e016-d590-4cc0-bf07-27524e4fd98a",
   "metadata": {},
   "source": [
    "#### Turn back result set caching on for other work down below"
   ]
  },
  {
   "cell_type": "code",
   "execution_count": 20,
   "id": "a46decb0-79f6-4301-b391-021955c7316c",
   "metadata": {},
   "outputs": [
    {
     "data": {
      "text/plain": [
       "[Row(status='Statement executed successfully.')]"
      ]
     },
     "execution_count": 20,
     "metadata": {},
     "output_type": "execute_result"
    }
   ],
   "source": [
    "session.sql(\"ALTER SESSION SET USE_CACHED_RESULT=TRUE\").collect()"
   ]
  },
  {
   "cell_type": "raw",
   "id": "8c729c72-cce0-425a-862a-511fdb0cf223",
   "metadata": {},
   "source": [
    "#### Turn down warehouse size from 3XL to SMALL for other work down below"
   ]
  },
  {
   "cell_type": "code",
   "execution_count": 21,
   "id": "52148aac-a7f5-44b2-9de1-e19fa7a5b382",
   "metadata": {},
   "outputs": [
    {
     "data": {
      "text/plain": [
       "[Row(status='Statement executed successfully.')]"
      ]
     },
     "execution_count": 21,
     "metadata": {},
     "output_type": "execute_result"
    }
   ],
   "source": [
    "session.sql(f\"ALTER WAREHOUSE {session.get_current_warehouse()} set WAREHOUSE_SIZE=SMALL\").collect()"
   ]
  },
  {
   "cell_type": "markdown",
   "id": "7704f7d4-18c8-4e40-87a7-bbfd0e39bb29",
   "metadata": {},
   "source": [
    "#### Close snowpark session"
   ]
  },
  {
   "cell_type": "code",
   "execution_count": 22,
   "id": "fd73d4e8-1fe5-45cc-bddf-2af90175ed38",
   "metadata": {
    "tags": []
   },
   "outputs": [],
   "source": [
    "session.close()"
   ]
  },
  {
   "cell_type": "markdown",
   "id": "93647317-0579-4fc8-beaa-cc333ef3b507",
   "metadata": {},
   "source": [
    "## Results"
   ]
  },
  {
   "attachments": {
    "4b1d20b1-a7b5-4930-a0e2-dd3f21b871e6.PNG": {
     "image/png": "[encoded data removed]"
    }
   },
   "cell_type": "markdown",
   "id": "3c257d58-2480-4da8-a750-d66e1f738680",
   "metadata": {},
   "source": [
    "![Snowpark cosine similarity calculation.PNG](attachment:4b1d20b1-a7b5-4930-a0e2-dd3f21b871e6.PNG)"
   ]
  }
 ],
 "metadata": {
  "kernelspec": {
   "display_name": "snowparksimilarity",
   "language": "python",
   "name": "python3"
  },
  "language_info": {
   "codemirror_mode": {
    "name": "ipython",
    "version": 3
   },
   "file_extension": ".py",
   "mimetype": "text/x-python",
   "name": "python",
   "nbconvert_exporter": "python",
   "pygments_lexer": "ipython3",
   "version": "3.8.16"
  },
  "vscode": {
   "interpreter": {
    "hash": "f79ef37d94aec46052c0e2148df4d22ce106f9707ece7d12c6646699bb0ee88e"
   }
  }
 },
 "nbformat": 4,
 "nbformat_minor": 5
}
