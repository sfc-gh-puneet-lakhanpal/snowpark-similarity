{
 "cells": [
  {
   "cell_type": "markdown",
   "id": "6585b3ab-c794-47c2-89f4-7532af00bc8c",
   "metadata": {},
   "source": [
    "### This notebook loads data for similarity calculation in next notebook"
   ]
  },
  {
   "cell_type": "code",
   "execution_count": 1,
   "id": "1c22cd40-7ee4-4b16-b25d-4255f8a5c500",
   "metadata": {},
   "outputs": [],
   "source": [
    "import pandas as pd\n",
    "import numpy as np\n",
    "import time\n",
    "import json\n",
    "from cachetools import cached\n",
    "from time import perf_counter\n",
    "from typing import Iterable, Tuple\n",
    "# Snowpark Imports\n",
    "from snowflake.snowpark.session import Session\n",
    "import snowflake.snowpark.functions as F\n",
    "import snowflake.snowpark.types as T\n",
    "from snowflake.snowpark.functions import udf, udtf\n",
    "\n",
    "# Reading Snowflake Connection Details\n",
    "snowflake_connection_cfg = json.loads(open('snowflake-creds.json').read())\n",
    "session = Session.builder.configs(snowflake_connection_cfg).create()"
   ]
  },
  {
   "cell_type": "markdown",
   "id": "c8e6e3b9-61da-4dd4-bce5-ff21d7b32203",
   "metadata": {
    "tags": []
   },
   "source": [
    "### Choose a SMALL warehouse to load the data"
   ]
  },
  {
   "cell_type": "code",
   "execution_count": 2,
   "id": "04dff4a1-1ac5-46b9-9bc0-026f16356435",
   "metadata": {
    "tags": []
   },
   "outputs": [
    {
     "data": {
      "text/plain": [
       "[Row(status='Statement executed successfully.')]"
      ]
     },
     "execution_count": 2,
     "metadata": {},
     "output_type": "execute_result"
    }
   ],
   "source": [
    "session.sql(f\"ALTER WAREHOUSE {session.get_current_warehouse()} set WAREHOUSE_SIZE=SMALL\").collect()"
   ]
  },
  {
   "cell_type": "code",
   "execution_count": 3,
   "id": "8d4e453d-e615-4f6f-a378-8e7f8fac8ba3",
   "metadata": {
    "tags": []
   },
   "outputs": [],
   "source": [
    "# Collection of sample texts used for random data generation\n",
    "texts = ['Snowflake Inc. is a cloud computing–based data cloud company based in Bozeman, Montana.',\n",
    "         'In data analysis, cosine similarity is a measure of similarity between two non-zero vectors defined in an inner product space. ',\n",
    "         'Netflix, Inc. is an American media company based in Los Gatos, California.',\n",
    "         'Avatar is an American media franchise created by James Cameron, which consists of a planned series of epic science fiction films.']"
   ]
  },
  {
   "cell_type": "markdown",
   "id": "61d57241-3840-4233-84d1-9a881aa94036",
   "metadata": {
    "tags": []
   },
   "source": [
    "### Set the number of documents, and calculate the corresponding number of cross joined document comparisons"
   ]
  },
  {
   "cell_type": "code",
   "execution_count": 4,
   "id": "fcaf6076-ea1b-4739-8b30-1f74ea188b92",
   "metadata": {
    "tags": []
   },
   "outputs": [
    {
     "name": "stdout",
     "output_type": "stream",
     "text": [
      "Number of cross joined comparisons that we will do with cosine similarity in next notebook: 10000.0 Million\n"
     ]
    }
   ],
   "source": [
    "number_of_documents = 100000\n",
    "cross_joined_comparisons = number_of_documents * number_of_documents\n",
    "print(f\"Number of cross joined comparisons that we will do with cosine similarity in next notebook: {round(cross_joined_comparisons)/1000000} Million\")"
   ]
  },
  {
   "cell_type": "markdown",
   "id": "cf6cfbfe-6ea6-4413-9b36-56031c82a93b",
   "metadata": {
    "tags": []
   },
   "source": [
    "### Generate the dataset"
   ]
  },
  {
   "cell_type": "code",
   "execution_count": 5,
   "id": "47ef7437-ab45-45a2-a282-e49a2d0fbb59",
   "metadata": {},
   "outputs": [
    {
     "name": "stdout",
     "output_type": "stream",
     "text": [
      "------------------------------------------------------------------\n",
      "|\"TEXT_ID\"  |\"TEXT\"                                              |\n",
      "------------------------------------------------------------------\n",
      "|0          |Snowflake Inc. is a cloud computing–based data ...  |\n",
      "|1          |Netflix, Inc. is an American media company base...  |\n",
      "|2          |Avatar is an American media franchise created b...  |\n",
      "|3          |In data analysis, cosine similarity is a measur...  |\n",
      "|4          |Avatar is an American media franchise created b...  |\n",
      "|5          |In data analysis, cosine similarity is a measur...  |\n",
      "|6          |Netflix, Inc. is an American media company base...  |\n",
      "|7          |Avatar is an American media franchise created b...  |\n",
      "|8          |Avatar is an American media franchise created b...  |\n",
      "|9          |Avatar is an American media franchise created b...  |\n",
      "------------------------------------------------------------------\n",
      "\n"
     ]
    }
   ],
   "source": [
    "# Generate sample dataset\n",
    "texts_df = session.generator(F.seq8().as_('TEXT_ID'),\n",
    "                             F.get(F.lit(texts),F.lit(F.uniform(0,len(texts)-1,F.random()))).cast(T.StringType()).as_('TEXT'),\n",
    "                             rowcount=number_of_documents)\n",
    "texts_df.write.save_as_table('SAMPLE_TEXTS', mode='overwrite')\n",
    "texts_df = session.table('SAMPLE_TEXTS')\n",
    "texts_df.show()"
   ]
  },
  {
   "cell_type": "code",
   "execution_count": 6,
   "id": "7f61d636-bb33-46d5-aa97-c5b0e36eef43",
   "metadata": {
    "tags": []
   },
   "outputs": [
    {
     "data": {
      "text/plain": [
       "100000"
      ]
     },
     "execution_count": 6,
     "metadata": {},
     "output_type": "execute_result"
    }
   ],
   "source": [
    "texts_df.count()"
   ]
  },
  {
   "cell_type": "code",
   "execution_count": 7,
   "id": "d669c55b-a941-47ef-978c-87c571fe9127",
   "metadata": {},
   "outputs": [],
   "source": [
    "session.close()"
   ]
  }
 ],
 "metadata": {
  "kernelspec": {
   "display_name": "snowparksimilarity",
   "language": "python",
   "name": "python3"
  },
  "language_info": {
   "codemirror_mode": {
    "name": "ipython",
    "version": 3
   },
   "file_extension": ".py",
   "mimetype": "text/x-python",
   "name": "python",
   "nbconvert_exporter": "python",
   "pygments_lexer": "ipython3",
   "version": "3.8.16"
  },
  "vscode": {
   "interpreter": {
    "hash": "f79ef37d94aec46052c0e2148df4d22ce106f9707ece7d12c6646699bb0ee88e"
   }
  }
 },
 "nbformat": 4,
 "nbformat_minor": 5
}
